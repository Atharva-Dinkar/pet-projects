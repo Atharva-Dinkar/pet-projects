{
 "cells": [
  {
   "cell_type": "code",
   "execution_count": 1,
   "metadata": {
    "ExecuteTime": {
     "end_time": "2021-12-18T19:22:43.111194Z",
     "start_time": "2021-12-18T19:22:43.086880Z"
    }
   },
   "outputs": [],
   "source": [
    "import numpy as np\n",
    "import sympy as sp\n",
    "import math"
   ]
  },
  {
   "cell_type": "code",
   "execution_count": 2,
   "metadata": {
    "ExecuteTime": {
     "end_time": "2021-12-18T19:22:43.140023Z",
     "start_time": "2021-12-18T19:22:43.132071Z"
    }
   },
   "outputs": [],
   "source": [
    "set_of_nodes = []\n",
    "set_of_elements = []\n",
    "set_of_equations = []\n",
    "set_of_variables = []"
   ]
  },
  {
   "cell_type": "code",
   "execution_count": 3,
   "metadata": {
    "ExecuteTime": {
     "end_time": "2021-12-18T19:24:20.940502Z",
     "start_time": "2021-12-18T19:24:20.858397Z"
    },
    "code_folding": [
     0,
     34,
     49,
     76,
     103,
     150,
     167,
     185,
     229,
     242,
     272
    ]
   },
   "outputs": [],
   "source": [
    "class node:\n",
    "    def __init__(self, voltage):\n",
    "        global set_of_nodes, set_of_variables\n",
    "        if type(voltage) == int or type(voltage) == sp.core.symbol.Symbol:\n",
    "            self.voltage = voltage\n",
    "            self.str_input_flag = False\n",
    "        elif type(voltage) == str:\n",
    "            self.voltage = sp.symbols(voltage)\n",
    "            self.str_input_flag = True\n",
    "        self.neighbours_vsource = {}\n",
    "        self.neighbours_isource = {}\n",
    "        self.neighbours_impedance = {}\n",
    "        set_of_nodes.append(self)\n",
    "    \n",
    "    \n",
    "    def net_current(self):\n",
    "        global set_of_equations\n",
    "        balance = 0\n",
    "        for i in self.neighbours_impedance:\n",
    "            balance -= (self.voltage - self.neighbours_impedance[i].voltage)/i.value\n",
    "\n",
    "        for i in self.neighbours_isource:\n",
    "            if i.node_minus == self:\n",
    "                balance -= i.value\n",
    "            if i.node_plus == self:\n",
    "                balance += i.value\n",
    "\n",
    "        for i in self.neighbours_vsource:\n",
    "            if i.node_minus == self:\n",
    "                balance -= i.current\n",
    "            if i.node_plus == self:\n",
    "                balance += i.current\n",
    "        self.balance = balance\n",
    "        \n",
    "class impedance:\n",
    "    def __init__(self, n1, n2, value):\n",
    "        global set_of_elements\n",
    "        t = type(value)\n",
    "        if t == int or t == sp.core.symbol.Symbol or t == sp.core.add.Add or t == sp.core.mul.Mul:\n",
    "            self.value = value\n",
    "        elif t == str:\n",
    "            self.value = sp.symbols(value)\n",
    "        self.type = \"impedance\"\n",
    "        self.node1 = n1\n",
    "        self.node2 = n2\n",
    "        n1.neighbours_impedance[self] = n2\n",
    "        n2.neighbours_impedance[self] = n1\n",
    "        set_of_elements.append(self)\n",
    "        \n",
    "class vsource:\n",
    "    def __init__(self, n_minus, n_plus, value, current):\n",
    "        global set_of_elements\n",
    "        set_of_elements.append(self)\n",
    "        self.type = \"vsource\"\n",
    "        \n",
    "        t = type(value)\n",
    "        if t == int or t == sp.core.symbol.Symbol or t == sp.core.add.Add or t == sp.core.mul.Mul:\n",
    "            self.value = value\n",
    "        elif t == str:\n",
    "            self.value = sp.symbols(value)\n",
    "        \n",
    "        self.node_minus = n_minus\n",
    "        self.node_plus = n_plus\n",
    "        self.expr = self.node_plus.voltage - self.node_minus.voltage - self.value\n",
    "        \n",
    "        t = type(current)\n",
    "        if t == int or t == sp.core.symbol.Symbol or t == sp.core.add.Add or t == sp.core.mul.Mul:\n",
    "            self.current = current\n",
    "            self.str_input_flag = False\n",
    "        elif t == str:\n",
    "            self.current = sp.symbols(current)\n",
    "            self.str_input_flag = True\n",
    "            \n",
    "        n_minus.neighbours_vsource[self] = n_plus\n",
    "        n_plus.neighbours_vsource[self] = n_minus\n",
    "        \n",
    "class vcvs:\n",
    "    def __init__(self, n_in_minus, n_in_plus, n_out_minus, n_out_plus, gain, current):\n",
    "        global set_of_elements\n",
    "        set_of_elements.append(self)\n",
    "        self.type = \"vsource\"\n",
    "        \n",
    "        t = type(gain)\n",
    "        if t == int or t == sp.core.symbol.Symbol or t == sp.core.add.Add or t == sp.core.mul.Mul:\n",
    "            self.gain = gain\n",
    "        elif t == str:\n",
    "            self.gain = sp.symbols(gain)\n",
    "        \n",
    "        self.node_minus = n_out_minus\n",
    "        self.node_plus = n_out_plus\n",
    "        self.expr = self.node_plus.voltage - self.node_minus.voltage - self.gain*(n_in_plus.voltage - n_in_minus.voltage)\n",
    "        \n",
    "        t = type(current)\n",
    "        if t == int or t == sp.core.symbol.Symbol or t == sp.core.add.Add or t == sp.core.mul.Mul:\n",
    "            self.current = current\n",
    "            self.str_input_flag = False\n",
    "        elif t == str:\n",
    "            self.current = sp.symbols(current)\n",
    "            self.str_input_flag = True\n",
    "            \n",
    "        n_out_minus.neighbours_vsource[self] = n_out_plus\n",
    "        n_out_plus.neighbours_vsource[self] = n_out_minus\n",
    "        \n",
    "class ccvs:\n",
    "    def __init__(self, n_in_minus, n_in_plus, element, n_out_minus, n_out_plus, tximp, current):\n",
    "#         remember to raise error if n_in_plus and n_in_minus aren't connected by element\n",
    "        global set_of_elements\n",
    "        set_of_elements.append(self)\n",
    "        self.type = \"vsource\"\n",
    "        \n",
    "        t = type(tximp)\n",
    "        if t == int or t == sp.core.symbol.Symbol or t == sp.core.add.Add or t == sp.core.mul.Mul:\n",
    "            self.tximp = tximp\n",
    "        elif t == str:\n",
    "            self.tximp = sp.symbols(tximp)\n",
    "        \n",
    "        if element.type == \"impedance\":\n",
    "            if element not in n_in_minus.neighbours_impedance or n_in_minus != n_in_plus.neighbours_impedance[element]:\n",
    "                raise Exception(\"The two nodes aren't connected by the element specified.\")\n",
    "            self.value = self.tximp*(n_in_plus.voltage - n_in_minus.voltage)/(element.value)\n",
    "        if element.type == \"vsource\":\n",
    "            if element not in n_in_minus.neighbours_vsource or n_in_minus != n_in_plus.neighbours_vsource[element]:\n",
    "                raise Exception(\"The two nodes aren't connected by the element specified.\")\n",
    "            if element.node_plus == n_in_minus:\n",
    "                self.value = self.tximp*element.current\n",
    "            if element.node_plus == n_in_plus:\n",
    "                self.value = -self.tximp*element.current\n",
    "        if element.type == \"isource\":\n",
    "            if element not in n_in_minus.neighbours_isource or n_in_minus != n_in_plus.neighbours_isource[element]:\n",
    "                raise Exception(\"The two nodes aren't connected by the element specified.\")\n",
    "            if element.node_plus == n_in_minus:\n",
    "                self.value = self.tximp*element.value\n",
    "            if element.node_plus == n_in_plus:\n",
    "                self.value = -self.tximp*element.value\n",
    "               \n",
    "        self.node_minus = n_out_minus\n",
    "        self.node_plus = n_out_plus\n",
    "        self.expr = self.node_plus.voltage - self.node_minus.voltage - self.value\n",
    "        \n",
    "        t = type(current)\n",
    "        if t == int or t == sp.core.symbol.Symbol or t == sp.core.add.Add or t == sp.core.mul.Mul:\n",
    "            self.current = current\n",
    "            self.str_input_flag = False\n",
    "        elif t == str:\n",
    "            self.current = sp.symbols(current)\n",
    "            self.str_input_flag = True\n",
    "            \n",
    "        n_out_minus.neighbours_vsource[self] = n_out_plus\n",
    "        n_out_plus.neighbours_vsource[self] = n_out_minus\n",
    "    \n",
    "class isource:\n",
    "    def __init__(self, n_minus, n_plus, value):\n",
    "        global set_of_elements\n",
    "        set_of_elements.append(self)\n",
    "        self.type = \"isource\"\n",
    "        \n",
    "        t = type(value)\n",
    "        if t == int or t == sp.core.symbol.Symbol or t == sp.core.add.Add or t == sp.core.mul.Mul:\n",
    "            self.value = value\n",
    "        elif t == str:\n",
    "            self.value = sp.symbols(value)\n",
    "        \n",
    "        self.node_minus = n_minus\n",
    "        self.node_plus = n_plus\n",
    "        n_minus.neighbours_isource[self] = n_plus\n",
    "        n_plus.neighbours_isource[self] = n_minus\n",
    "        \n",
    "class vccs:\n",
    "    def __init__(self, n_in_minus, n_in_plus, n_out_minus, n_out_plus, Gm):\n",
    "        global set_of_elements\n",
    "        set_of_elements.append(self)\n",
    "        t = type(Gm)\n",
    "        self.type = \"isource\"\n",
    "        \n",
    "        if t == int or t == sp.core.symbol.Symbol or t == sp.core.add.Add or t == sp.core.mul.Mul:\n",
    "            self.Gm = Gm\n",
    "        elif t == str:\n",
    "            self.Gm = sp.symbols(Gm)\n",
    "        \n",
    "        self.node_minus = n_out_minus\n",
    "        self.node_plus = n_out_plus\n",
    "        self.value = self.Gm * (n_in_plus.voltage - n_in_minus.voltage)\n",
    "        n_out_minus.neighbours_isource[self] = n_out_plus\n",
    "        n_out_plus.neighbours_isource[self] = n_out_minus\n",
    "\n",
    "class cccs:\n",
    "    def __init__(self, n_in_minus, n_in_plus, element, n_out_minus, n_out_plus, gain):\n",
    "#         remember to raise error if n_in_plus and n_in_minus aren't connected by element\n",
    "        global set_of_elements\n",
    "        set_of_elements.append(self)\n",
    "        self.type = \"isource\"\n",
    "        \n",
    "        t = type(gain)\n",
    "        if t == int or t == sp.core.symbol.Symbol or t == sp.core.add.Add or t == sp.core.mul.Mul:\n",
    "            self.gain = gain\n",
    "        elif t == str:\n",
    "            self.gain = sp.symbols(gain)\n",
    "        \n",
    "        if element.type == \"impedance\":\n",
    "            if element not in n_in_minus.neighbours_impedance or n_in_minus != n_in_plus.neighbours_impedance[element]:\n",
    "                raise Exception(\"The two nodes aren't connected by the element specified.\")\n",
    "            self.value = self.gain*(n_in_plus.voltage - n_in_minus.voltage)/(element.value)\n",
    "        if element.type == \"vsource\":\n",
    "            if element not in n_in_minus.neighbours_vsource or n_in_minus != n_in_plus.neighbours_vsource[element]:\n",
    "                raise Exception(\"The two nodes aren't connected by the element specified.\")\n",
    "            if element.node_plus == n_in_minus:\n",
    "                self.value = self.gain*element.current\n",
    "            if element.node_plus == n_in_plus:\n",
    "                self.value = -self.gain*element.current\n",
    "        if element.type == \"isource\":\n",
    "            if element not in n_in_minus.neighbours_isource or n_in_minus != n_in_plus.neighbours_isource[element]:\n",
    "                raise Exception(\"The two nodes aren't connected by the element specified.\")\n",
    "            if element.node_plus == n_in_minus:\n",
    "                self.value = self.gain*element.value\n",
    "            if element.node_plus == n_in_plus:\n",
    "                self.value = -self.gain*element.value\n",
    "        \n",
    "        self.node_minus = n_out_minus\n",
    "        self.node_plus = n_out_plus\n",
    "        n_out_minus.neighbours_isource[self] = n_out_plus\n",
    "        n_out_plus.neighbours_isource[self] = n_out_minus\n",
    "        \n",
    "class MOSFET_small_signal:\n",
    "    def __init__(self, gate, source, drain, name, ideal):\n",
    "        name = str(name)\n",
    "        globals()[\"gm_\"+name] = vccs(n_in_minus=source,\n",
    "                                     n_in_plus=gate,\n",
    "                                     n_out_minus=drain,\n",
    "                                     n_out_plus=source,\n",
    "                                     Gm = \"gm_\"+name)\n",
    "        if not ideal:\n",
    "            globals()[\"ro_\"+name] = impedance(n1=source, n2=drain, value=\"ro_\"+name)\n",
    "        \n",
    "def disconnect(element):\n",
    "    global set_of_variables\n",
    "    set_of_elements.remove(element)\n",
    "    if element.type == \"impedance\":\n",
    "        element.node1.neighbours_impedance.pop(element)\n",
    "        element.node2.neighbours_impedance.pop(element)\n",
    "    if element.type == \"vsource\":\n",
    "        element.node_minus.neighbours_vsource.pop(element)\n",
    "        element.node_plus.neighbours_vsource.pop(element)\n",
    "    if element.type == \"isource\":\n",
    "        element.node_minus.neighbours_isource.pop(element)\n",
    "        element.node_plus.neighbours_isource.pop(element) \n",
    "    \n",
    "def solve_ckt():\n",
    "    global set_of_equations, set_of_nodes, set_of_variables, set_of_elements\n",
    "    set_of_equations = []\n",
    "    set_of_variables = []\n",
    "    for i in set_of_nodes:\n",
    "        i.net_current()\n",
    "        set_of_equations.append(i.balance)\n",
    "        if i.str_input_flag:\n",
    "            set_of_variables.append(i.voltage)\n",
    "    for i in set_of_elements:\n",
    "        if i.type == \"vsource\":\n",
    "            set_of_equations.append(i.expr)\n",
    "            if i.str_input_flag:\n",
    "                set_of_variables.append(i.current)\n",
    "    sol_set = sp.linsolve(set_of_equations, set_of_variables)\n",
    "#     print(set_of_variables)\n",
    "    return sol_set\n",
    "\n",
    "def display_solns():\n",
    "    a = solve_ckt()\n",
    "    print(\"--------------------\")\n",
    "    print(\"---SOLVED CIRCUIT---\")\n",
    "    print(\"--------------------\")\n",
    "    print(\"\\n\")\n",
    "    \n",
    "    for i in range(len(set_of_variables)):\n",
    "#         print(sp.latex(sp.Eq(set_of_variables[i], a.args[0][i])))\n",
    "        sp.pprint(sp.Eq(set_of_variables[i], a.args[0][i]))\n",
    "        print(\"\\n\")\n",
    "\n",
    "def clear_ckt():\n",
    "    global set_of_equations, set_of_nodes, set_of_variables, set_of_elements\n",
    "    for i in set_of_nodes:\n",
    "        del i\n",
    "    for i in set_of_elements:\n",
    "        del i\n",
    "    set_of_equations = []\n",
    "    set_of_nodes = []\n",
    "    set_of_variables = []\n",
    "    set_of_elements = []\n",
    "    "
   ]
  },
  {
   "cell_type": "code",
   "execution_count": 24,
   "metadata": {
    "ExecuteTime": {
     "end_time": "2021-12-18T19:22:43.414881Z",
     "start_time": "2021-12-18T19:22:43.390049Z"
    }
   },
   "outputs": [],
   "source": [
    "# if \"value\" is a string, convert it into sympy symbols\n",
    "# else, keep as integer\n",
    "# make list of all equations that have to be satisfied.\n",
    "# ^^ this includes KCL at all nodes and KVL at all voltage sources\n",
    "# everytime a new node is created, add it to a list of nodes in the ckt.\n",
    "# KCL has to be satisfied for each element in this list.\n",
    "# everytime a new ckt element is created, add it to a list of elements in the ckt.\n",
    "# everytime a new variable is added, it has to be also be added to the list of variables to be solved for\n",
    "# include support for controlled sources\n",
    "# throw error if n_in_plus and n_in_minus for ccxs are not connected by element\n",
    "# include support for xfmr\n",
    "# include support for transistors (in saturation?)\n",
    "\n",
    "# organize code!! Make classes neat and tidy!!\n",
    "\n",
    "# for vsource, V(plus node) - V(minus node) = value\n",
    "# for isource, current flows from minus node to plus node"
   ]
  },
  {
   "cell_type": "code",
   "execution_count": 4,
   "metadata": {
    "ExecuteTime": {
     "end_time": "2021-12-18T19:22:43.534995Z",
     "start_time": "2021-12-18T19:22:43.415392Z"
    }
   },
   "outputs": [
    {
     "name": "stdout",
     "output_type": "stream",
     "text": [
      "--------------------\n",
      "---SOLVED CIRCUIT---\n",
      "--------------------\n",
      "\n",
      "\n",
      "V₁₂₃ = V_{in}\n",
      "\n",
      "\n",
      "     -10⋅V_{in} \n",
      "Vx = ───────────\n",
      "          R     \n",
      "\n",
      "\n",
      "         V_{in}\n",
      "I_{in} = ──────\n",
      "           R   \n",
      "\n",
      "\n",
      "          -10⋅V_{in} \n",
      "I_{out} = ───────────\n",
      "              R⋅Rx   \n",
      "\n",
      "\n"
     ]
    }
   ],
   "source": [
    "clear_ckt()\n",
    "\n",
    "n1 = node(0)\n",
    "n2 = node(\"V123\")\n",
    "Vin = vsource(n1, n2, \"V_{in}\", \"I_{in}\")\n",
    "R1 = impedance(n1, n2, \"R\")\n",
    "n3 = node(0)\n",
    "n4 = node(\"Vx\")\n",
    "R2 = impedance(n3, n4, \"Rx\")\n",
    "V2 = ccvs(n2, n1, R1, n3, n4, 10, \"I_{out}\")\n",
    "display_solns()"
   ]
  },
  {
   "cell_type": "code",
   "execution_count": 11,
   "metadata": {
    "ExecuteTime": {
     "end_time": "2021-12-18T19:24:32.077206Z",
     "start_time": "2021-12-18T19:24:31.776570Z"
    }
   },
   "outputs": [
    {
     "name": "stdout",
     "output_type": "stream",
     "text": [
      "--------------------\n",
      "---SOLVED CIRCUIT---\n",
      "--------------------\n",
      "\n",
      "\n",
      "Vᵢₙ = V_{in}\n",
      "\n",
      "\n",
      "       R⋅V_{in}⋅(-Rb⋅gm₁ + 1)\n",
      "Vₒᵤₜ = ──────────────────────\n",
      "               R + Rb        \n",
      "\n",
      "\n",
      "         V_{in}⋅(R⋅gm₁ + 1)\n",
      "I_{in} = ──────────────────\n",
      "               R + Rb      \n",
      "\n",
      "\n"
     ]
    }
   ],
   "source": [
    "clear_ckt()\n",
    "g = node(\"V_in\")\n",
    "s = node(0)\n",
    "d = node(\"V_out\")\n",
    "Vin = vsource(s, g, \"V_{in}\", \"I_{in}\")\n",
    "R = impedance(d, s, \"R\")\n",
    "M1 = MOSFET_small_signal(g, s, d, \"1\", True)\n",
    "Rb = impedance(g, d, \"Rb\")\n",
    "display_solns()"
   ]
  },
  {
   "cell_type": "code",
   "execution_count": 5,
   "metadata": {
    "ExecuteTime": {
     "end_time": "2021-12-18T19:22:44.264969Z",
     "start_time": "2021-12-18T19:22:44.031158Z"
    }
   },
   "outputs": [
    {
     "name": "stdout",
     "output_type": "stream",
     "text": [
      "--------------------\n",
      "---SOLVED CIRCUIT---\n",
      "--------------------\n",
      "\n",
      "\n",
      "     C⋅R⋅Vin⋅s\n",
      "Vx = ─────────\n",
      "     C⋅R⋅s + 1\n",
      "\n",
      "\n",
      "V_{in} = Vin\n",
      "\n",
      "\n",
      "       C⋅Vin⋅s \n",
      "Iin = ─────────\n",
      "      C⋅R⋅s + 1\n",
      "\n",
      "\n"
     ]
    }
   ],
   "source": [
    "clear_ckt()\n",
    "s, C = sp.symbols('s, C')\n",
    "n1 = node(0)\n",
    "n2 = node(\"Vx\")\n",
    "n3 = node(\"V_{in}\")\n",
    "C1 = impedance(n3, n2, 1/(s*C))\n",
    "R = impedance(n2, n1, \"R\")\n",
    "vin = vsource(n1, n3, \"Vin\", \"Iin\")\n",
    "display_solns()"
   ]
  },
  {
   "cell_type": "code",
   "execution_count": 6,
   "metadata": {
    "ExecuteTime": {
     "end_time": "2021-12-18T19:22:44.314810Z",
     "start_time": "2021-12-18T19:22:44.264969Z"
    }
   },
   "outputs": [
    {
     "name": "stdout",
     "output_type": "stream",
     "text": [
      "--------------------\n",
      "---SOLVED CIRCUIT---\n",
      "--------------------\n",
      "\n",
      "\n",
      "V₁ = V_{in}\n",
      "\n",
      "\n",
      "          1000⋅V_{in}\n",
      "V_{out} = ───────────\n",
      "              1001   \n",
      "\n",
      "\n",
      "I_{in} = 0\n",
      "\n",
      "\n",
      "I_{out} = 0\n",
      "\n",
      "\n"
     ]
    }
   ],
   "source": [
    "clear_ckt()\n",
    "n0 = node(0)\n",
    "n1 = node(\"V1\")\n",
    "Vin = vsource(n0, n1, \"V_{in}\", \"I_{in}\")\n",
    "n_inv = node(\"V_{out}\")\n",
    "amp = vcvs(n_inv, n1, n0, n_inv, 1000, \"I_{out}\")\n",
    "display_solns()"
   ]
  },
  {
   "cell_type": "code",
   "execution_count": 10,
   "metadata": {
    "ExecuteTime": {
     "end_time": "2021-12-18T19:22:44.746812Z",
     "start_time": "2021-12-18T19:22:44.314810Z"
    }
   },
   "outputs": [
    {
     "name": "stdout",
     "output_type": "stream",
     "text": [
      "--------------------\n",
      "---SOLVED CIRCUIT---\n",
      "--------------------\n",
      "\n",
      "\n",
      "Vx = I_{1}⋅R₁ - V_{in}\n",
      "\n",
      "\n",
      "Vy = -V_{in}\n",
      "\n",
      "\n",
      "     -R₃⋅V_{in} \n",
      "Vz = ───────────\n",
      "       R₂ + R₃  \n",
      "\n",
      "\n",
      "     I_{1}⋅R₂ + I_{1}⋅R₃ + V_{in}\n",
      "I? = ────────────────────────────\n",
      "               R₂ + R₃           \n",
      "\n",
      "\n"
     ]
    }
   ],
   "source": [
    "clear_ckt()\n",
    "\n",
    "gnd = node(0)\n",
    "n1 = node(\"Vx\")\n",
    "n2 = node(\"Vy\")\n",
    "n3 = node(\"Vz\")\n",
    "R1 = impedance(n2, n1, \"R1\")\n",
    "R2 = impedance(n2, n3, \"R2\")\n",
    "R3 = impedance(n3, gnd, \"R3\")\n",
    "I1 = isource(gnd, n1, \"I_{1}\")\n",
    "V1 = vsource(n2, gnd, \"V_{in}\", \"I?\")\n",
    "\n",
    "display_solns()"
   ]
  },
  {
   "cell_type": "code",
   "execution_count": 8,
   "metadata": {
    "ExecuteTime": {
     "end_time": "2021-12-18T19:33:35.821260Z",
     "start_time": "2021-12-18T19:33:34.512597Z"
    }
   },
   "outputs": [
    {
     "name": "stdout",
     "output_type": "stream",
     "text": [
      "--------------------\n",
      "---SOLVED CIRCUIT---\n",
      "--------------------\n",
      "\n",
      "\n",
      "             -C₂⋅Vin⋅gm₁⋅s        \n",
      "V₁ = ─────────────────────────────\n",
      "            2                     \n",
      "     C₁⋅C₂⋅s  + C₂⋅gm₃⋅s + gm₂⋅gm₃\n",
      "\n",
      "\n",
      "              Vin⋅gm₁⋅gm₂         \n",
      "V₂ = ─────────────────────────────\n",
      "            2                     \n",
      "     C₁⋅C₂⋅s  + C₂⋅gm₃⋅s + gm₂⋅gm₃\n",
      "\n",
      "\n",
      "          -Vin⋅gm₁⋅gm₃⋅(C₂⋅s + gm₂)      \n",
      "V₃ = ────────────────────────────────────\n",
      "          ⎛       2                     ⎞\n",
      "     C₃⋅s⋅⎝C₁⋅C₂⋅s  + C₂⋅gm₃⋅s + gm₂⋅gm₃⎠\n",
      "\n",
      "\n",
      "V_{in} = Vin\n",
      "\n",
      "\n",
      "Iin = 0\n",
      "\n",
      "\n"
     ]
    }
   ],
   "source": [
    "clear_ckt()\n",
    "s, C1, C2, C3 = sp.symbols('s, C1, C2, C3')\n",
    "gnd = node(0)\n",
    "n1 = node(\"V1\")\n",
    "n2 = node(\"V2\")\n",
    "n3 = node(\"V3\")\n",
    "n_in = node(\"V_{in}\")\n",
    "vin = vsource(gnd, n_in, \"Vin\", \"Iin\")\n",
    "M1 = MOSFET_small_signal(gate=n_in, source=gnd, drain=n1, name=1, ideal=True)\n",
    "M2 = MOSFET_small_signal(gate=n1, source=gnd, drain=n2, name=2, ideal=True)\n",
    "M3 = MOSFET_small_signal(gate=n2, source=n1, drain=n3, name=3, ideal=True)\n",
    "c1 = impedance(n1, gnd, 1/(s*C1))\n",
    "c2 = impedance(n2, gnd, 1/(s*C2))\n",
    "c3 = impedance(n3, gnd, 1/(s*C3))\n",
    "display_solns()"
   ]
  },
  {
   "cell_type": "code",
   "execution_count": 9,
   "metadata": {
    "ExecuteTime": {
     "end_time": "2021-12-18T19:36:54.873058Z",
     "start_time": "2021-12-18T19:36:54.083141Z"
    }
   },
   "outputs": [
    {
     "data": {
      "text/latex": [
       "$\\displaystyle V_{3} = - \\frac{Vin gm_{1} gm_{3} \\left(C_{2} s + gm_{2}\\right)}{C_{3} s \\left(C_{1} C_{2} s^{2} + C_{2} gm_{3} s + gm_{2} gm_{3}\\right)}$"
      ],
      "text/plain": [
       "Eq(V3, -Vin*gm_1*gm_3*(C2*s + gm_2)/(C3*s*(C1*C2*s**2 + C2*gm_3*s + gm_2*gm_3)))"
      ]
     },
     "execution_count": 9,
     "metadata": {},
     "output_type": "execute_result"
    }
   ],
   "source": [
    "sp.Eq(set_of_variables[2], solve_ckt().args[0][2])"
   ]
  }
 ],
 "metadata": {
  "kernelspec": {
   "display_name": "Python 3",
   "language": "python",
   "name": "python3"
  },
  "language_info": {
   "codemirror_mode": {
    "name": "ipython",
    "version": 3
   },
   "file_extension": ".py",
   "mimetype": "text/x-python",
   "name": "python",
   "nbconvert_exporter": "python",
   "pygments_lexer": "ipython3",
   "version": "3.8.3"
  }
 },
 "nbformat": 4,
 "nbformat_minor": 4
}
