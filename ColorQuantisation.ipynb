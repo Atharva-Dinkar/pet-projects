{
 "cells": [
  {
   "cell_type": "code",
   "execution_count": 170,
   "metadata": {},
   "outputs": [],
   "source": [
    "import cv2\n",
    "import numpy as np\n",
    "import math\n",
    "from skimage.color import rgb2lab\n",
    "from skimage.color import lab2rgb"
   ]
  },
  {
   "cell_type": "code",
   "execution_count": 215,
   "metadata": {},
   "outputs": [
    {
     "name": "stdout",
     "output_type": "stream",
     "text": [
      "Shape is:(1600, 1098, 3)\n"
     ]
    }
   ],
   "source": [
    "path = r\"C:\\Users\\athar\\Downloads\\opm-world.jpg\"\n",
    "path = r\"C:\\Users\\athar\\Downloads\\Heath-Ledger-Joker-Christian-Bale-The-Dark-Knight-2008.webp\"\n",
    "path2 = r\"C:\\Users\\athar\\Downloads\\Quantized.webp\"\n",
    "img = cv2.imread(path, cv2.IMREAD_COLOR)\n",
    "cv2.imshow(\"image\", img)\n",
    "cv2.waitKey(0)\n",
    "cv2.destroyAllWindows()\n",
    "img = cv2.cvtColor(img, cv2.COLOR_BGR2RGB)\n",
    "cv2.imshow(\"image\", img)\n",
    "cv2.waitKey(0)\n",
    "cv2.destroyAllWindows()\n",
    "print(\"Shape is:\"+str(np.shape(img)))"
   ]
  },
  {
   "cell_type": "code",
   "execution_count": 167,
   "metadata": {},
   "outputs": [
    {
     "data": {
      "text/plain": [
       "array([[[47.46696137,  3.40619451, 11.80137269]]])"
      ]
     },
     "execution_count": 167,
     "metadata": {},
     "output_type": "execute_result"
    }
   ],
   "source": [
    "rgb2lab(np.array([[np.array([126, 110, 93])/255.0]]))"
   ]
  },
  {
   "cell_type": "raw",
   "metadata": {},
   "source": [
    "L - 0 to 100\n",
    "a - -128 to 127\n",
    "b - -128 to 127"
   ]
  },
  {
   "cell_type": "code",
   "execution_count": 288,
   "metadata": {},
   "outputs": [],
   "source": [
    "l_steps = 20\n",
    "a_steps = 10\n",
    "b_steps = 10\n",
    "\n",
    "total_colors = l_steps*a_steps*b_steps\n",
    "\n",
    "colors_rgb = np.zeros([total_colors, 3])\n",
    "colors_bgr = np.zeros([total_colors, 3])\n",
    "colors_lab = np.zeros([total_colors, 3])\n",
    "\n",
    "for i, i1 in enumerate(np.linspace(0, 100, l_steps)):\n",
    "    for j, j1 in enumerate(np.linspace(-128, 127, a_steps)):\n",
    "        for k, k1 in enumerate(np.linspace(-128, 127, b_steps)):\n",
    "            index = (a_steps*b_steps)*i+b_steps*j+k\n",
    "            colors_lab[index] = np.array([1.0*i1, 1.0*j1, 1.0*k1])\n",
    "            a = lab2rgb([[np.array([1.0*i1, 1.0*j1, 1.0*k1])]])*255\n",
    "            colors_rgb[index] = np.array([a[0][0][0], a[0][0][1], a[0][0][2]])\n",
    "            colors_bgr[index] = np.array([a[0][0][2], a[0][0][1], a[0][0][0]])"
   ]
  },
  {
   "cell_type": "code",
   "execution_count": 289,
   "metadata": {},
   "outputs": [
    {
     "data": {
      "text/plain": [
       "True"
      ]
     },
     "execution_count": 289,
     "metadata": {},
     "output_type": "execute_result"
    }
   ],
   "source": [
    "img2 = np.zeros(np.shape(img))\n",
    "\n",
    "img_lab = rgb2lab(np.array(img)/255.0)\n",
    "\n",
    "for i in range(len(img)):\n",
    "    for j in range(len(img[0])):\n",
    "# for i in range(1):\n",
    "#     for j in range(1):\n",
    "        k = img_lab[i][j]\n",
    "#         print(k)\n",
    "        diff = (k-colors_lab)\n",
    "#         print(diff)\n",
    "        diff2 = np.linalg.norm(diff, axis=1)\n",
    "        color_index = np.argmin(diff2)\n",
    "        img2[i][j] = colors_bgr[color_index]\n",
    "\n",
    "cv2.imshow(\"image\", img2)\n",
    "cv2.waitKey(0)\n",
    "cv2.destroyAllWindows()\n",
    "cv2.imwrite(path2, img2) "
   ]
  }
 ],
 "metadata": {
  "kernelspec": {
   "display_name": "Python 3",
   "language": "python",
   "name": "python3"
  },
  "language_info": {
   "codemirror_mode": {
    "name": "ipython",
    "version": 3
   },
   "file_extension": ".py",
   "mimetype": "text/x-python",
   "name": "python",
   "nbconvert_exporter": "python",
   "pygments_lexer": "ipython3",
   "version": "3.8.3"
  }
 },
 "nbformat": 4,
 "nbformat_minor": 4
}
